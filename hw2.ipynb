{
 "cells": [
  {
   "cell_type": "code",
   "execution_count": 1,
   "metadata": {},
   "outputs": [],
   "source": [
    "import pandas as pd\n",
    "import cv2\n",
    "import numpy as np\n",
    "from tensorflow import keras\n",
    "from tensorflow.keras import regularizers\n",
    "from tensorflow.keras import layers\n",
    "from tensorflow.keras import models\n",
    "from tensorflow.keras import optimizers\n",
    "import numpy as np\n",
    "import math\n",
    "import matplotlib.pyplot as plt"
   ]
  },
  {
   "cell_type": "code",
   "execution_count": 2,
   "metadata": {},
   "outputs": [
    {
     "data": {
      "text/html": [
       "<div>\n",
       "<style scoped>\n",
       "    .dataframe tbody tr th:only-of-type {\n",
       "        vertical-align: middle;\n",
       "    }\n",
       "\n",
       "    .dataframe tbody tr th {\n",
       "        vertical-align: top;\n",
       "    }\n",
       "\n",
       "    .dataframe thead th {\n",
       "        text-align: right;\n",
       "    }\n",
       "</style>\n",
       "<table border=\"1\" class=\"dataframe\">\n",
       "  <thead>\n",
       "    <tr style=\"text-align: right;\">\n",
       "      <th></th>\n",
       "      <th>waferMap</th>\n",
       "      <th>dieSize</th>\n",
       "      <th>lotName</th>\n",
       "      <th>waferIndex</th>\n",
       "      <th>trianTestLabel</th>\n",
       "      <th>failureType</th>\n",
       "      <th>wafer_size</th>\n",
       "      <th>failureNum</th>\n",
       "    </tr>\n",
       "  </thead>\n",
       "  <tbody>\n",
       "    <tr>\n",
       "      <th>0</th>\n",
       "      <td>[[0, 0, 0, 0, 0, 0, 0, 0, 0, 0, 0, 0, 0, 0, 0,...</td>\n",
       "      <td>1683.0</td>\n",
       "      <td>lot1</td>\n",
       "      <td>1.0</td>\n",
       "      <td>0</td>\n",
       "      <td>none</td>\n",
       "      <td>(45, 48)</td>\n",
       "      <td>8</td>\n",
       "    </tr>\n",
       "    <tr>\n",
       "      <th>1</th>\n",
       "      <td>[[0, 0, 0, 0, 0, 0, 0, 0, 0, 0, 0, 0, 0, 0, 0,...</td>\n",
       "      <td>1683.0</td>\n",
       "      <td>lot1</td>\n",
       "      <td>2.0</td>\n",
       "      <td>0</td>\n",
       "      <td>none</td>\n",
       "      <td>(45, 48)</td>\n",
       "      <td>8</td>\n",
       "    </tr>\n",
       "    <tr>\n",
       "      <th>2</th>\n",
       "      <td>[[0, 0, 0, 0, 0, 0, 0, 0, 0, 0, 0, 0, 0, 0, 0,...</td>\n",
       "      <td>1683.0</td>\n",
       "      <td>lot1</td>\n",
       "      <td>3.0</td>\n",
       "      <td>0</td>\n",
       "      <td>none</td>\n",
       "      <td>(45, 48)</td>\n",
       "      <td>8</td>\n",
       "    </tr>\n",
       "    <tr>\n",
       "      <th>3</th>\n",
       "      <td>[[0, 0, 0, 0, 0, 0, 0, 0, 0, 0, 0, 0, 0, 0, 0,...</td>\n",
       "      <td>1683.0</td>\n",
       "      <td>lot1</td>\n",
       "      <td>4.0</td>\n",
       "      <td>0</td>\n",
       "      <td>none</td>\n",
       "      <td>(45, 48)</td>\n",
       "      <td>8</td>\n",
       "    </tr>\n",
       "    <tr>\n",
       "      <th>4</th>\n",
       "      <td>[[0, 0, 0, 0, 0, 0, 0, 0, 0, 0, 0, 0, 0, 0, 0,...</td>\n",
       "      <td>1683.0</td>\n",
       "      <td>lot1</td>\n",
       "      <td>5.0</td>\n",
       "      <td>0</td>\n",
       "      <td>none</td>\n",
       "      <td>(45, 48)</td>\n",
       "      <td>8</td>\n",
       "    </tr>\n",
       "  </tbody>\n",
       "</table>\n",
       "</div>"
      ],
      "text/plain": [
       "                                            waferMap  dieSize lotName  \\\n",
       "0  [[0, 0, 0, 0, 0, 0, 0, 0, 0, 0, 0, 0, 0, 0, 0,...   1683.0    lot1   \n",
       "1  [[0, 0, 0, 0, 0, 0, 0, 0, 0, 0, 0, 0, 0, 0, 0,...   1683.0    lot1   \n",
       "2  [[0, 0, 0, 0, 0, 0, 0, 0, 0, 0, 0, 0, 0, 0, 0,...   1683.0    lot1   \n",
       "3  [[0, 0, 0, 0, 0, 0, 0, 0, 0, 0, 0, 0, 0, 0, 0,...   1683.0    lot1   \n",
       "4  [[0, 0, 0, 0, 0, 0, 0, 0, 0, 0, 0, 0, 0, 0, 0,...   1683.0    lot1   \n",
       "\n",
       "   waferIndex  trianTestLabel failureType wafer_size  failureNum  \n",
       "0         1.0               0        none   (45, 48)           8  \n",
       "1         2.0               0        none   (45, 48)           8  \n",
       "2         3.0               0        none   (45, 48)           8  \n",
       "3         4.0               0        none   (45, 48)           8  \n",
       "4         5.0               0        none   (45, 48)           8  "
      ]
     },
     "execution_count": 2,
     "metadata": {},
     "output_type": "execute_result"
    }
   ],
   "source": [
    "train_df=pd.read_pickle(\"./train_set.pkl\")\n",
    "test_df=pd.read_pickle(\"./test_set_all.pkl\")\n",
    "train_df.head()"
   ]
  },
  {
   "cell_type": "code",
   "execution_count": 3,
   "metadata": {},
   "outputs": [
    {
     "data": {
      "text/html": [
       "<div>\n",
       "<style scoped>\n",
       "    .dataframe tbody tr th:only-of-type {\n",
       "        vertical-align: middle;\n",
       "    }\n",
       "\n",
       "    .dataframe tbody tr th {\n",
       "        vertical-align: top;\n",
       "    }\n",
       "\n",
       "    .dataframe thead th {\n",
       "        text-align: right;\n",
       "    }\n",
       "</style>\n",
       "<table border=\"1\" class=\"dataframe\">\n",
       "  <thead>\n",
       "    <tr style=\"text-align: right;\">\n",
       "      <th></th>\n",
       "      <th>waferMap</th>\n",
       "      <th>dieSize</th>\n",
       "      <th>lotName</th>\n",
       "      <th>waferIndex</th>\n",
       "      <th>trianTestLabel</th>\n",
       "      <th>wafer_size</th>\n",
       "    </tr>\n",
       "  </thead>\n",
       "  <tbody>\n",
       "    <tr>\n",
       "      <th>0</th>\n",
       "      <td>[[0, 0, 0, 0, 0, 0, 0, 0, 0, 0, 1, 2, 2, 2, 2,...</td>\n",
       "      <td>533.0</td>\n",
       "      <td>lot40328</td>\n",
       "      <td>1.0</td>\n",
       "      <td>1</td>\n",
       "      <td>(26, 26)</td>\n",
       "    </tr>\n",
       "    <tr>\n",
       "      <th>1</th>\n",
       "      <td>[[0, 0, 0, 0, 0, 0, 0, 0, 0, 0, 1, 2, 1, 1, 1,...</td>\n",
       "      <td>533.0</td>\n",
       "      <td>lot40328</td>\n",
       "      <td>2.0</td>\n",
       "      <td>1</td>\n",
       "      <td>(26, 26)</td>\n",
       "    </tr>\n",
       "    <tr>\n",
       "      <th>2</th>\n",
       "      <td>[[0, 0, 0, 0, 0, 0, 0, 0, 0, 0, 1, 2, 2, 2, 2,...</td>\n",
       "      <td>533.0</td>\n",
       "      <td>lot40328</td>\n",
       "      <td>3.0</td>\n",
       "      <td>1</td>\n",
       "      <td>(26, 26)</td>\n",
       "    </tr>\n",
       "    <tr>\n",
       "      <th>3</th>\n",
       "      <td>[[0, 0, 0, 0, 0, 0, 0, 0, 0, 0, 2, 1, 1, 1, 2,...</td>\n",
       "      <td>533.0</td>\n",
       "      <td>lot40328</td>\n",
       "      <td>4.0</td>\n",
       "      <td>1</td>\n",
       "      <td>(26, 26)</td>\n",
       "    </tr>\n",
       "    <tr>\n",
       "      <th>4</th>\n",
       "      <td>[[0, 0, 0, 0, 0, 0, 0, 0, 0, 0, 2, 2, 1, 1, 1,...</td>\n",
       "      <td>533.0</td>\n",
       "      <td>lot40328</td>\n",
       "      <td>5.0</td>\n",
       "      <td>1</td>\n",
       "      <td>(26, 26)</td>\n",
       "    </tr>\n",
       "  </tbody>\n",
       "</table>\n",
       "</div>"
      ],
      "text/plain": [
       "                                            waferMap  dieSize   lotName  \\\n",
       "0  [[0, 0, 0, 0, 0, 0, 0, 0, 0, 0, 1, 2, 2, 2, 2,...    533.0  lot40328   \n",
       "1  [[0, 0, 0, 0, 0, 0, 0, 0, 0, 0, 1, 2, 1, 1, 1,...    533.0  lot40328   \n",
       "2  [[0, 0, 0, 0, 0, 0, 0, 0, 0, 0, 1, 2, 2, 2, 2,...    533.0  lot40328   \n",
       "3  [[0, 0, 0, 0, 0, 0, 0, 0, 0, 0, 2, 1, 1, 1, 2,...    533.0  lot40328   \n",
       "4  [[0, 0, 0, 0, 0, 0, 0, 0, 0, 0, 2, 2, 1, 1, 1,...    533.0  lot40328   \n",
       "\n",
       "   waferIndex  trianTestLabel wafer_size  \n",
       "0         1.0               1   (26, 26)  \n",
       "1         2.0               1   (26, 26)  \n",
       "2         3.0               1   (26, 26)  \n",
       "3         4.0               1   (26, 26)  \n",
       "4         5.0               1   (26, 26)  "
      ]
     },
     "execution_count": 3,
     "metadata": {},
     "output_type": "execute_result"
    }
   ],
   "source": [
    "test_df.head()"
   ]
  },
  {
   "cell_type": "code",
   "execution_count": 4,
   "metadata": {},
   "outputs": [
    {
     "data": {
      "text/plain": [
       "8    36730\n",
       "3     8554\n",
       "0     3462\n",
       "2     2417\n",
       "4     1620\n",
       "5      609\n",
       "6      500\n",
       "1      409\n",
       "7       54\n",
       "Name: failureNum, dtype: int64"
      ]
     },
     "execution_count": 4,
     "metadata": {},
     "output_type": "execute_result"
    }
   ],
   "source": [
    "train_df[\"failureNum\"].value_counts()"
   ]
  },
  {
   "cell_type": "code",
   "execution_count": 5,
   "metadata": {},
   "outputs": [
    {
     "data": {
      "text/plain": [
       "(25, 27)    15684\n",
       "(27, 25)     9235\n",
       "(26, 26)     6369\n",
       "(38, 36)     1877\n",
       "(33, 37)     1804\n",
       "            ...  \n",
       "(67, 65)        1\n",
       "(63, 63)        1\n",
       "(52, 53)        1\n",
       "(56, 63)        1\n",
       "(53, 44)        1\n",
       "Name: wafer_size, Length: 335, dtype: int64"
      ]
     },
     "execution_count": 5,
     "metadata": {},
     "output_type": "execute_result"
    }
   ],
   "source": [
    "train_df[\"wafer_size\"].value_counts()"
   ]
  },
  {
   "cell_type": "code",
   "execution_count": 6,
   "metadata": {},
   "outputs": [
    {
     "name": "stdout",
     "output_type": "stream",
     "text": [
      "(45, 48)\n",
      "(45, 48)\n"
     ]
    }
   ],
   "source": [
    "print(train_df[\"waferMap\"][1].shape)\n",
    "print(train_df[\"wafer_size\"][1])"
   ]
  },
  {
   "cell_type": "code",
   "execution_count": 7,
   "metadata": {},
   "outputs": [],
   "source": [
    "def data_preprocessing(x_data, size, num_category, is_test = False, y_data = None):\n",
    "    x = np.zeros((len(x_data), size, size, 1), dtype=np.float32)\n",
    "    if is_test == False:\n",
    "      y = np.zeros((len(x_data),num_category), dtype=np.uint8)\n",
    "      for i, img in enumerate(x_data):\n",
    "        x[i, :, :, :] = np.expand_dims(cv2.resize(img,(size, size)), axis=-1)\n",
    "        y[i,y_data[i]] = 1\n",
    "\n",
    "      return x, y\n",
    "    else:\n",
    "      for i, img in enumerate(x_data):\n",
    "        x[i, :, :] = np.expand_dims(cv2.resize(img,(size, size)), axis=-1)\n",
    "      \n",
    "      return x\n",
    "\n",
    "resize = 64\n",
    "train_x, train_y = data_preprocessing(train_df[\"waferMap\"].to_numpy(), resize, 9, False, train_df[\"failureNum\"].to_numpy())\n"
   ]
  },
  {
   "cell_type": "code",
   "execution_count": 8,
   "metadata": {},
   "outputs": [
    {
     "data": {
      "text/plain": [
       "<matplotlib.image.AxesImage at 0x29254de1c70>"
      ]
     },
     "execution_count": 8,
     "metadata": {},
     "output_type": "execute_result"
    },
    {
     "data": {
      "image/png": "[encoded data removed]",
      "text/plain": [
       "<Figure size 432x288 with 1 Axes>"
      ]
     },
     "metadata": {
      "needs_background": "light"
     },
     "output_type": "display_data"
    }
   ],
   "source": [
    "plt.imshow(train_x[5].astype(np.int32))"
   ]
  },
  {
   "cell_type": "code",
   "execution_count": 9,
   "metadata": {},
   "outputs": [
    {
     "name": "stdout",
     "output_type": "stream",
     "text": [
      "(43484, 64, 64, 1) (43484, 9)\n",
      "(10871, 64, 64, 1) (10871, 9)\n"
     ]
    }
   ],
   "source": [
    "val_split = 0.2\n",
    "num_val = math.floor(len(train_y)*val_split)\n",
    "indice = np.arange(train_x.shape[0])\n",
    "np.random.shuffle(indice)\n",
    "train_x = train_x[indice]/255\n",
    "train_y = train_y[indice]\n",
    "partial_train_x = train_x[:-num_val]\n",
    "val_x = train_x[-num_val:]\n",
    "partial_train_y = train_y[:-num_val]\n",
    "val_y = train_y[-num_val:]\n",
    "print(partial_train_x.shape,partial_train_y.shape)\n",
    "print(val_x.shape,val_y.shape)"
   ]
  },
  {
   "cell_type": "code",
   "execution_count": 10,
   "metadata": {},
   "outputs": [],
   "source": [
    "def build_model():\n",
    "    model = models.Sequential()\n",
    "    \n",
    "    model.add(layers.Conv2D(32, (3, 3), activation='relu', input_shape=(resize, resize, 1)))\n",
    "    model.add(layers.MaxPooling2D((2, 2)))\n",
    "    \n",
    "    model.add(layers.Conv2D(64, (3, 3), activation='relu'))\n",
    "    model.add(layers.MaxPooling2D((2, 2)))\n",
    "    \n",
    "    model.add(layers.Flatten())\n",
    "    model.add(layers.Dropout(0.5))\n",
    "    model.add(layers.Dense(64, activation='gelu'))\n",
    "    model.add(layers.Dense(9,activation='softmax'))\n",
    "\n",
    "\n",
    "    model.compile(loss='categorical_crossentropy',\n",
    "                  optimizer=optimizers.Adam(learning_rate=1e-3),\n",
    "                  metrics=['acc'])\n",
    "\n",
    "    return model"
   ]
  },
  {
   "cell_type": "code",
   "execution_count": 11,
   "metadata": {},
   "outputs": [
    {
     "name": "stdout",
     "output_type": "stream",
     "text": [
      "Model: \"sequential\"\n",
      "_________________________________________________________________\n",
      "Layer (type)                 Output Shape              Param #   \n",
      "=================================================================\n",
      "conv2d (Conv2D)              (None, 62, 62, 32)        320       \n",
      "_________________________________________________________________\n",
      "max_pooling2d (MaxPooling2D) (None, 31, 31, 32)        0         \n",
      "_________________________________________________________________\n",
      "conv2d_1 (Conv2D)            (None, 29, 29, 64)        18496     \n",
      "_________________________________________________________________\n",
      "max_pooling2d_1 (MaxPooling2 (None, 14, 14, 64)        0         \n",
      "_________________________________________________________________\n",
      "flatten (Flatten)            (None, 12544)             0         \n",
      "_________________________________________________________________\n",
      "dropout (Dropout)            (None, 12544)             0         \n",
      "_________________________________________________________________\n",
      "dense (Dense)                (None, 64)                802880    \n",
      "_________________________________________________________________\n",
      "dense_1 (Dense)              (None, 9)                 585       \n",
      "=================================================================\n",
      "Total params: 822,281\n",
      "Trainable params: 822,281\n",
      "Non-trainable params: 0\n",
      "_________________________________________________________________\n"
     ]
    }
   ],
   "source": [
    "model = build_model()\n",
    "model.compile(loss='categorical_crossentropy',\n",
    "              optimizer=optimizers.Adam(learning_rate=1e-3),\n",
    "              metrics=['acc'])\n",
    "model.summary()"
   ]
  },
  {
   "cell_type": "code",
   "execution_count": 12,
   "metadata": {},
   "outputs": [
    {
     "name": "stdout",
     "output_type": "stream",
     "text": [
      "Epoch 1/50\n",
      "340/340 [==============================] - 8s 7ms/step - loss: 1.1140 - acc: 0.6761 - val_loss: 0.8164 - val_acc: 0.7366\n",
      "Epoch 2/50\n",
      "340/340 [==============================] - 2s 7ms/step - loss: 0.4636 - acc: 0.8735 - val_loss: 0.3566 - val_acc: 0.8984\n",
      "Epoch 3/50\n",
      "340/340 [==============================] - 2s 7ms/step - loss: 0.3263 - acc: 0.9052 - val_loss: 0.3058 - val_acc: 0.9135\n",
      "Epoch 4/50\n",
      "340/340 [==============================] - 2s 7ms/step - loss: 0.2634 - acc: 0.9219 - val_loss: 0.2181 - val_acc: 0.9336\n",
      "Epoch 5/50\n",
      "340/340 [==============================] - 2s 7ms/step - loss: 0.2120 - acc: 0.9372 - val_loss: 0.1874 - val_acc: 0.9470\n",
      "Epoch 6/50\n",
      "340/340 [==============================] - 2s 7ms/step - loss: 0.1807 - acc: 0.9454 - val_loss: 0.1649 - val_acc: 0.9489\n",
      "Epoch 7/50\n",
      "340/340 [==============================] - 2s 7ms/step - loss: 0.1608 - acc: 0.9507 - val_loss: 0.1606 - val_acc: 0.9484\n",
      "Epoch 8/50\n",
      "340/340 [==============================] - 2s 7ms/step - loss: 0.1462 - acc: 0.9546 - val_loss: 0.1406 - val_acc: 0.9587\n",
      "Epoch 9/50\n",
      "340/340 [==============================] - 2s 7ms/step - loss: 0.1350 - acc: 0.9571 - val_loss: 0.1353 - val_acc: 0.9590\n",
      "Epoch 10/50\n",
      "340/340 [==============================] - 2s 7ms/step - loss: 0.1276 - acc: 0.9595 - val_loss: 0.1334 - val_acc: 0.9588\n",
      "Epoch 11/50\n",
      "340/340 [==============================] - 2s 7ms/step - loss: 0.1174 - acc: 0.9644 - val_loss: 0.1275 - val_acc: 0.9619\n",
      "Epoch 12/50\n",
      "340/340 [==============================] - 2s 7ms/step - loss: 0.1082 - acc: 0.9656 - val_loss: 0.1200 - val_acc: 0.9631\n",
      "Epoch 13/50\n",
      "340/340 [==============================] - 2s 7ms/step - loss: 0.1025 - acc: 0.9679 - val_loss: 0.1194 - val_acc: 0.9644\n",
      "Epoch 14/50\n",
      "340/340 [==============================] - 2s 7ms/step - loss: 0.0998 - acc: 0.9678 - val_loss: 0.1156 - val_acc: 0.9660\n",
      "Epoch 15/50\n",
      "340/340 [==============================] - 2s 7ms/step - loss: 0.0919 - acc: 0.9704 - val_loss: 0.1181 - val_acc: 0.9659\n",
      "Epoch 16/50\n",
      "340/340 [==============================] - 2s 7ms/step - loss: 0.0867 - acc: 0.9721 - val_loss: 0.1094 - val_acc: 0.9661\n",
      "Epoch 17/50\n",
      "340/340 [==============================] - 2s 7ms/step - loss: 0.0816 - acc: 0.9738 - val_loss: 0.1125 - val_acc: 0.9669\n",
      "Epoch 18/50\n",
      "340/340 [==============================] - 2s 7ms/step - loss: 0.0758 - acc: 0.9757 - val_loss: 0.1035 - val_acc: 0.9701\n",
      "Epoch 19/50\n",
      "340/340 [==============================] - 2s 7ms/step - loss: 0.0748 - acc: 0.9753 - val_loss: 0.1069 - val_acc: 0.9688\n",
      "Epoch 20/50\n",
      "340/340 [==============================] - 2s 7ms/step - loss: 0.0695 - acc: 0.9771 - val_loss: 0.1152 - val_acc: 0.9687\n",
      "Epoch 21/50\n",
      "340/340 [==============================] - 2s 7ms/step - loss: 0.0676 - acc: 0.9780 - val_loss: 0.1040 - val_acc: 0.9692\n",
      "Epoch 22/50\n",
      "340/340 [==============================] - 2s 7ms/step - loss: 0.0627 - acc: 0.9794 - val_loss: 0.1026 - val_acc: 0.9704\n",
      "Epoch 23/50\n",
      "340/340 [==============================] - 2s 7ms/step - loss: 0.0592 - acc: 0.9805 - val_loss: 0.1239 - val_acc: 0.9659\n",
      "Epoch 24/50\n",
      "340/340 [==============================] - 2s 7ms/step - loss: 0.0586 - acc: 0.9803 - val_loss: 0.1035 - val_acc: 0.9696\n",
      "Epoch 25/50\n",
      "340/340 [==============================] - 2s 7ms/step - loss: 0.0541 - acc: 0.9824 - val_loss: 0.1120 - val_acc: 0.9691\n",
      "Epoch 26/50\n",
      "340/340 [==============================] - 2s 7ms/step - loss: 0.0535 - acc: 0.9822 - val_loss: 0.1067 - val_acc: 0.9709\n",
      "Epoch 27/50\n",
      "340/340 [==============================] - 2s 7ms/step - loss: 0.0480 - acc: 0.9834 - val_loss: 0.0973 - val_acc: 0.9736\n",
      "Epoch 28/50\n",
      "340/340 [==============================] - 2s 7ms/step - loss: 0.0485 - acc: 0.9838 - val_loss: 0.1107 - val_acc: 0.9711\n",
      "Epoch 29/50\n",
      "340/340 [==============================] - 2s 7ms/step - loss: 0.0456 - acc: 0.9846 - val_loss: 0.1117 - val_acc: 0.9708\n",
      "Epoch 30/50\n",
      "340/340 [==============================] - 2s 7ms/step - loss: 0.0435 - acc: 0.9851 - val_loss: 0.1060 - val_acc: 0.9726\n",
      "Epoch 31/50\n",
      "340/340 [==============================] - 2s 7ms/step - loss: 0.0415 - acc: 0.9861 - val_loss: 0.1095 - val_acc: 0.9719\n",
      "Epoch 32/50\n",
      "340/340 [==============================] - 2s 7ms/step - loss: 0.0461 - acc: 0.9842 - val_loss: 0.1181 - val_acc: 0.9707\n",
      "Epoch 33/50\n",
      "340/340 [==============================] - 2s 7ms/step - loss: 0.0393 - acc: 0.9863 - val_loss: 0.1336 - val_acc: 0.9694\n",
      "Epoch 34/50\n",
      "340/340 [==============================] - 2s 7ms/step - loss: 0.0427 - acc: 0.9862 - val_loss: 0.1168 - val_acc: 0.9705\n",
      "Epoch 35/50\n",
      "340/340 [==============================] - 2s 7ms/step - loss: 0.0377 - acc: 0.9872 - val_loss: 0.1161 - val_acc: 0.9711\n",
      "Epoch 36/50\n",
      "340/340 [==============================] - 2s 7ms/step - loss: 0.0376 - acc: 0.9878 - val_loss: 0.1121 - val_acc: 0.9734\n",
      "Epoch 37/50\n",
      "340/340 [==============================] - 2s 7ms/step - loss: 0.0349 - acc: 0.9880 - val_loss: 0.1219 - val_acc: 0.9722\n",
      "Epoch 38/50\n",
      "340/340 [==============================] - 2s 7ms/step - loss: 0.0329 - acc: 0.9891 - val_loss: 0.1152 - val_acc: 0.9708\n",
      "Epoch 39/50\n",
      "340/340 [==============================] - 2s 7ms/step - loss: 0.0329 - acc: 0.9890 - val_loss: 0.1096 - val_acc: 0.9733\n",
      "Epoch 40/50\n",
      "340/340 [==============================] - 2s 7ms/step - loss: 0.0308 - acc: 0.9894 - val_loss: 0.1127 - val_acc: 0.9743\n",
      "Epoch 41/50\n",
      "340/340 [==============================] - 2s 7ms/step - loss: 0.0304 - acc: 0.9901 - val_loss: 0.1440 - val_acc: 0.9704\n",
      "Epoch 42/50\n",
      "340/340 [==============================] - 2s 7ms/step - loss: 0.0280 - acc: 0.9903 - val_loss: 0.1296 - val_acc: 0.9725\n",
      "Epoch 43/50\n",
      "340/340 [==============================] - 2s 7ms/step - loss: 0.0313 - acc: 0.9892 - val_loss: 0.1301 - val_acc: 0.9717\n",
      "Epoch 44/50\n",
      "340/340 [==============================] - 2s 7ms/step - loss: 0.0285 - acc: 0.9905 - val_loss: 0.1348 - val_acc: 0.9691\n",
      "Epoch 45/50\n",
      "340/340 [==============================] - 2s 7ms/step - loss: 0.0246 - acc: 0.9915 - val_loss: 0.1246 - val_acc: 0.9737\n",
      "Epoch 46/50\n",
      "340/340 [==============================] - 2s 7ms/step - loss: 0.0250 - acc: 0.9917 - val_loss: 0.1194 - val_acc: 0.9759\n",
      "Epoch 47/50\n",
      "340/340 [==============================] - 2s 7ms/step - loss: 0.0244 - acc: 0.9917 - val_loss: 0.1183 - val_acc: 0.9729\n",
      "Epoch 48/50\n",
      "340/340 [==============================] - 2s 7ms/step - loss: 0.0269 - acc: 0.9908 - val_loss: 0.1576 - val_acc: 0.9717\n",
      "Epoch 49/50\n",
      "340/340 [==============================] - 2s 7ms/step - loss: 0.0256 - acc: 0.9917 - val_loss: 0.1263 - val_acc: 0.9746\n",
      "Epoch 50/50\n",
      "340/340 [==============================] - 2s 7ms/step - loss: 0.0215 - acc: 0.9929 - val_loss: 0.1171 - val_acc: 0.9747\n"
     ]
    }
   ],
   "source": [
    "history = model.fit(\n",
    "      partial_train_x,partial_train_y,\n",
    "      batch_size=128,\n",
    "      validation_data=(val_x,val_y),\n",
    "      epochs=50,\n",
    "      #verbose = 0\n",
    "      )"
   ]
  },
  {
   "cell_type": "code",
   "execution_count": 13,
   "metadata": {},
   "outputs": [
    {
     "name": "stdout",
     "output_type": "stream",
     "text": [
      "[12.  7. 58. 11. 65.  8. 66.  1. 47.]\n"
     ]
    }
   ],
   "source": [
    "val_y_preds = model.predict(val_x)\n",
    "error = np.zeros(9)\n",
    "for i,pred in enumerate(val_y_preds):\n",
    "    if val_y[i, np.argmax(pred)] == 0:\n",
    "        error[np.argmax(val_y[i])] += 1\n",
    "print(error)\n"
   ]
  }
 ],
 "metadata": {
  "kernelspec": {
   "display_name": "Terry",
   "language": "python",
   "name": "python3"
  },
  "language_info": {
   "codemirror_mode": {
    "name": "ipython",
    "version": 3
   },
   "file_extension": ".py",
   "mimetype": "text/x-python",
   "name": "python",
   "nbconvert_exporter": "python",
   "pygments_lexer": "ipython3",
   "version": "3.9.12"
  },
  "orig_nbformat": 4,
  "vscode": {
   "interpreter": {
    "hash": "d48fea29b5c785b224b8f445531be3f4af692ea6256bf4222ac9df6f7f80872a"
   }
  }
 },
 "nbformat": 4,
 "nbformat_minor": 2
}
